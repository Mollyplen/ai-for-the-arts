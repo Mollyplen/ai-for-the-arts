{
 "cells": [
  {
   "cell_type": "markdown",
   "id": "7fc4d6db",
   "metadata": {},
   "source": [
    "# Hello, World!\n",
    "The following code was created as my first attempt at programming in this course. It is meant to help me understand how to write and run code in GitHub Codespaces. "
   ]
  },
  {
   "cell_type": "markdown",
   "id": "6d0c15f3",
   "metadata": {},
   "source": [
    "## Printing\n",
    "\n",
    "**I asked Copilot the following question:**\n",
    "“Could you suggest a python code for ‘Hello, world!’to demonstrate the concept of printing to a complete beginner in programming? Please explain the code step-by-step highlighting any key aspects.\"\n",
    "\n",
    "My key learning outcomes from this were: \n",
    "- Functions in python uses parentheses to hold information. \n",
    "- Print is used to disolay text on the screen. \n",
    "- Anything inside double quotes is treated as a string. "
   ]
  },
  {
   "cell_type": "code",
   "execution_count": 6,
   "id": "0e74f88b",
   "metadata": {},
   "outputs": [
    {
     "name": "stdout",
     "output_type": "stream",
     "text": [
      "Hello, world!\n"
     ]
    }
   ],
   "source": [
    "print(\"Hello, world!\")"
   ]
  },
  {
   "cell_type": "markdown",
   "id": "7d68453e",
   "metadata": {},
   "source": [
    "## Variables \n",
    "\n",
    "**I asked Copilot the following question:**\n",
    "Could you suggest a modification of the Python code for “Hello,\n",
    "world!” to demonstrate the concept of variables to a complete beginner in programming? Please explain the code step-by-step highlighting any key aspects?\n",
    "\n",
    "From its response i've learned that vaiables in python work very similar to variables in java. If I set the variable message to equal the string \"Hello, world\", then if i type:\n",
    "print(message), it will print the string text onto the screen, rather than just 'message'. "
   ]
  },
  {
   "cell_type": "code",
   "execution_count": 7,
   "id": "81c0e962",
   "metadata": {},
   "outputs": [
    {
     "name": "stdout",
     "output_type": "stream",
     "text": [
      "Hello, world!\n"
     ]
    }
   ],
   "source": [
    "\n",
    "message = \"Hello, world!\"\n",
    "print(message)\n"
   ]
  },
  {
   "cell_type": "markdown",
   "id": "8f7c9e1a",
   "metadata": {},
   "source": [
    "## Functions \n",
    "\n",
    "**I asked copilot the following:** \n",
    "Could you suggest a modification of the Python code for “Hello,\n",
    "world!” to demonstrate the concept of functions to a complete beginner in programming? Please explain the code step-by-step highlighting any key aspects.\n",
    "\n",
    "From this copilot has shown me again that it follows a similar structure to java. To create a function i use **def** to start, and then create a name for the function after. I then type my code underneath, and i can call on it using its name. \n",
    "\n",
    "However this led to some follow up questions, and I wondered how do i show the end of a fuction and can i call on the function again later on. Copilot told me that as soon as the indentation ends, the function ends. I can then call upon it again later on using the following code: "
   ]
  },
  {
   "cell_type": "code",
   "execution_count": 8,
   "id": "39c8712f",
   "metadata": {},
   "outputs": [
    {
     "name": "stdout",
     "output_type": "stream",
     "text": [
      "Hello, world!\n",
      "Doing something else...\n",
      "Hello, world!\n"
     ]
    }
   ],
   "source": [
    "\n",
    "def greet():\n",
    "    message = \"Hello, world!\"\n",
    "    print(message)\n",
    "\n",
    "# First call\n",
    "greet()\n",
    "\n",
    "# Some other code\n",
    "print(\"Doing something else...\")\n",
    "\n",
    "# Second call\n",
    "greet()\n"
   ]
  },
  {
   "cell_type": "markdown",
   "id": "e241eb4e",
   "metadata": {},
   "source": [
    "##Loops\n",
    "\n",
    "**Entered the following prompt:**\n",
    "Could you suggest a modification of the Python code for “Hello, world!” to demonstrate the concept of loops to a complete beginner in programming? Please explain the code step-by-step highlighting any key aspects.\n",
    "\n"
   ]
  },
  {
   "cell_type": "markdown",
   "id": "a6d40d9c",
   "metadata": {},
   "source": [
    "# Coding Exercises Notebook \n",
    "\n",
    "This notebook is for practising programming in Python. \n",
    "\n",
    "## What I want to achieve \n",
    "- Understand the basics of Python, such as how to make loops, conditions, and functions. \n",
    "- Learn more how to use Markdown language, and using it with code cells.\n",
    "- Analyse a file/data. "
   ]
  },
  {
   "cell_type": "code",
   "execution_count": 9,
   "id": "b32b9e11",
   "metadata": {},
   "outputs": [
    {
     "name": "stdout",
     "output_type": "stream",
     "text": [
      "Hello, World!\n"
     ]
    }
   ],
   "source": [
    "print(\"Hello, World!\")"
   ]
  }
 ],
 "metadata": {
  "kernelspec": {
   "display_name": "Python 3",
   "language": "python",
   "name": "python3"
  },
  "language_info": {
   "codemirror_mode": {
    "name": "ipython",
    "version": 3
   },
   "file_extension": ".py",
   "mimetype": "text/x-python",
   "name": "python",
   "nbconvert_exporter": "python",
   "pygments_lexer": "ipython3",
   "version": "3.12.1"
  }
 },
 "nbformat": 4,
 "nbformat_minor": 5
}
