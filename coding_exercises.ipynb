{
 "cells": [
  {
   "cell_type": "markdown",
   "id": "7fc4d6db",
   "metadata": {},
   "source": [
    "# Hello, World!\n",
    "The following code was created as my first attempt at programming in this course. It is meant to help me understand how to write and run code in GitHub Codespaces. "
   ]
  },
  {
   "cell_type": "code",
   "execution_count": 5,
   "id": "b32b9e11",
   "metadata": {},
   "outputs": [
    {
     "name": "stdout",
     "output_type": "stream",
     "text": [
      "Hello, World!\n"
     ]
    }
   ],
   "source": [
    "print(\"Hello, World!\")"
   ]
  },
  {
   "cell_type": "markdown",
   "id": "a6d40d9c",
   "metadata": {},
   "source": [
    "# Coding Exercises Notebook \n",
    "\n",
    "This notebook is for practising programming in Python. \n",
    "\n",
    "## What I want to achieve \n",
    "- Understand the basics of Python, such as how to make loops, conditions, and functions. \n",
    "- Learn more how to use Markdown language, and using it with code cells.\n",
    "- Analyse a file/data. "
   ]
  }
 ],
 "metadata": {
  "kernelspec": {
   "display_name": "Python 3 (ipykernel)",
   "language": "python",
   "name": "python3"
  },
  "language_info": {
   "codemirror_mode": {
    "name": "ipython",
    "version": 3
   },
   "file_extension": ".py",
   "mimetype": "text/x-python",
   "name": "python",
   "nbconvert_exporter": "python",
   "pygments_lexer": "ipython3",
   "version": "3.12.1"
  }
 },
 "nbformat": 4,
 "nbformat_minor": 5
}
